{
 "cells": [
  {
   "cell_type": "code",
   "execution_count": 3,
   "metadata": {},
   "outputs": [
    {
     "name": "stdout",
     "output_type": "stream",
     "text": [
      "Requirement already satisfied: Gensim==3.8.3 in c:\\programdata\\anaconda3\\lib\\site-packages (3.8.3)\n",
      "Requirement already satisfied: scipy>=0.18.1 in c:\\programdata\\anaconda3\\lib\\site-packages (from Gensim==3.8.3) (1.6.2)\n",
      "Requirement already satisfied: smart-open>=1.8.1 in c:\\programdata\\anaconda3\\lib\\site-packages (from Gensim==3.8.3) (5.2.1)\n",
      "Requirement already satisfied: six>=1.5.0 in c:\\programdata\\anaconda3\\lib\\site-packages (from Gensim==3.8.3) (1.15.0)\n",
      "Requirement already satisfied: numpy>=1.11.3 in c:\\programdata\\anaconda3\\lib\\site-packages (from Gensim==3.8.3) (1.20.1)\n",
      "Requirement already satisfied: Cython==0.29.14 in c:\\programdata\\anaconda3\\lib\\site-packages (from Gensim==3.8.3) (0.29.14)\n",
      "Note: you may need to restart the kernel to use updated packages.\n"
     ]
    }
   ],
   "source": [
    "pip install Gensim==3.8.3\n",
    "# Установка Gensim весрия 3.8.3"
   ]
  },
  {
   "cell_type": "code",
   "execution_count": 4,
   "metadata": {},
   "outputs": [],
   "source": [
    "# Добавления библиотек используемых в итоговом проекте\n",
    "import pandas as pd\n",
    "import numpy as np\n",
    "import seaborn as sns\n",
    "import gensim \n",
    "import random\n",
    "from tqdm import tqdm\n",
    "from gensim.models import Word2Vec \n",
    "\n",
    "import matplotlib.pyplot as plt\n",
    "import matplotlib.mlab as mlab\n",
    "import matplotlib\n",
    "plt.style.use('ggplot')\n",
    "from matplotlib.pyplot import figure\n",
    "\n",
    "%matplotlib inline\n",
    "matplotlib.rcParams['figure.figsize'] = (12,8)\n",
    "\n",
    "pd.options.mode.chained_assignment = None\n",
    "\n",
    "import warnings;\n",
    "warnings.filterwarnings('ignore')"
   ]
  },
  {
   "cell_type": "code",
   "execution_count": 5,
   "metadata": {},
   "outputs": [
    {
     "data": {
      "text/html": [
       "<div>\n",
       "<style scoped>\n",
       "    .dataframe tbody tr th:only-of-type {\n",
       "        vertical-align: middle;\n",
       "    }\n",
       "\n",
       "    .dataframe tbody tr th {\n",
       "        vertical-align: top;\n",
       "    }\n",
       "\n",
       "    .dataframe thead th {\n",
       "        text-align: right;\n",
       "    }\n",
       "</style>\n",
       "<table border=\"1\" class=\"dataframe\">\n",
       "  <thead>\n",
       "    <tr style=\"text-align: right;\">\n",
       "      <th></th>\n",
       "      <th>sale_date_date</th>\n",
       "      <th>contact_id</th>\n",
       "      <th>shop_id</th>\n",
       "      <th>product_id</th>\n",
       "      <th>name</th>\n",
       "      <th>product_sub_category_id</th>\n",
       "      <th>product_category_id</th>\n",
       "      <th>brand_id</th>\n",
       "      <th>quantity</th>\n",
       "    </tr>\n",
       "  </thead>\n",
       "  <tbody>\n",
       "    <tr>\n",
       "      <th>0</th>\n",
       "      <td>2018-12-07</td>\n",
       "      <td>1260627</td>\n",
       "      <td>1455.0</td>\n",
       "      <td>168308.0</td>\n",
       "      <td>(197312) Пакет-майка 25см х 45см</td>\n",
       "      <td>906.0</td>\n",
       "      <td>205.0</td>\n",
       "      <td>-1.0</td>\n",
       "      <td>1,00</td>\n",
       "    </tr>\n",
       "    <tr>\n",
       "      <th>1</th>\n",
       "      <td>2018-12-07</td>\n",
       "      <td>198287</td>\n",
       "      <td>279.0</td>\n",
       "      <td>134832.0</td>\n",
       "      <td>(62448) Перекись водорода р-р наружн. 3% фл.по...</td>\n",
       "      <td>404.0</td>\n",
       "      <td>93.0</td>\n",
       "      <td>-1.0</td>\n",
       "      <td>1,00</td>\n",
       "    </tr>\n",
       "    <tr>\n",
       "      <th>2</th>\n",
       "      <td>2018-12-07</td>\n",
       "      <td>2418385</td>\n",
       "      <td>848.0</td>\n",
       "      <td>101384.0</td>\n",
       "      <td>(72183) Салициловая кислота р-р спирт 2% фл 40...</td>\n",
       "      <td>404.0</td>\n",
       "      <td>93.0</td>\n",
       "      <td>-1.0</td>\n",
       "      <td>1,00</td>\n",
       "    </tr>\n",
       "    <tr>\n",
       "      <th>3</th>\n",
       "      <td>2018-12-07</td>\n",
       "      <td>1285774</td>\n",
       "      <td>1511.0</td>\n",
       "      <td>168570.0</td>\n",
       "      <td>(197309) Пакет 28см х 50см</td>\n",
       "      <td>906.0</td>\n",
       "      <td>205.0</td>\n",
       "      <td>-1.0</td>\n",
       "      <td>1,00</td>\n",
       "    </tr>\n",
       "    <tr>\n",
       "      <th>4</th>\n",
       "      <td>2018-12-07</td>\n",
       "      <td>1810323</td>\n",
       "      <td>1501.0</td>\n",
       "      <td>168319.0</td>\n",
       "      <td>(197310) Пакет 30см х 60см</td>\n",
       "      <td>906.0</td>\n",
       "      <td>205.0</td>\n",
       "      <td>-1.0</td>\n",
       "      <td>1,00</td>\n",
       "    </tr>\n",
       "  </tbody>\n",
       "</table>\n",
       "</div>"
      ],
      "text/plain": [
       "  sale_date_date contact_id  shop_id  product_id  \\\n",
       "0     2018-12-07    1260627   1455.0    168308.0   \n",
       "1     2018-12-07     198287    279.0    134832.0   \n",
       "2     2018-12-07    2418385    848.0    101384.0   \n",
       "3     2018-12-07    1285774   1511.0    168570.0   \n",
       "4     2018-12-07    1810323   1501.0    168319.0   \n",
       "\n",
       "                                                name  product_sub_category_id  \\\n",
       "0                   (197312) Пакет-майка 25см х 45см                    906.0   \n",
       "1  (62448) Перекись водорода р-р наружн. 3% фл.по...                    404.0   \n",
       "2  (72183) Салициловая кислота р-р спирт 2% фл 40...                    404.0   \n",
       "3                         (197309) Пакет 28см х 50см                    906.0   \n",
       "4                         (197310) Пакет 30см х 60см                    906.0   \n",
       "\n",
       "   product_category_id  brand_id quantity  \n",
       "0                205.0      -1.0     1,00  \n",
       "1                 93.0      -1.0     1,00  \n",
       "2                 93.0      -1.0     1,00  \n",
       "3                205.0      -1.0     1,00  \n",
       "4                205.0      -1.0     1,00  "
      ]
     },
     "execution_count": 5,
     "metadata": {},
     "output_type": "execute_result"
    }
   ],
   "source": [
    "# Просмотр данных \n",
    "df=pd.read_csv(\"C:/Users/Матвей/Downloads/farm.csv\")\n",
    "df.head()"
   ]
  },
  {
   "cell_type": "code",
   "execution_count": 6,
   "metadata": {},
   "outputs": [
    {
     "name": "stdout",
     "output_type": "stream",
     "text": [
      "<class 'pandas.core.frame.DataFrame'>\n",
      "RangeIndex: 20000003 entries, 0 to 20000002\n",
      "Data columns (total 9 columns):\n",
      " #   Column                   Dtype  \n",
      "---  ------                   -----  \n",
      " 0   sale_date_date           object \n",
      " 1   contact_id               object \n",
      " 2   shop_id                  float64\n",
      " 3   product_id               float64\n",
      " 4   name                     object \n",
      " 5   product_sub_category_id  float64\n",
      " 6   product_category_id      float64\n",
      " 7   brand_id                 float64\n",
      " 8   quantity                 object \n",
      "dtypes: float64(5), object(4)\n",
      "memory usage: 1.3+ GB\n"
     ]
    }
   ],
   "source": [
    "# Просмотр типов данных\n",
    "df.info()"
   ]
  },
  {
   "cell_type": "code",
   "execution_count": 7,
   "metadata": {},
   "outputs": [],
   "source": [
    "# Удаления строк и столбцов с нулевыми значениями NULL / NAN\n",
    "df=df.dropna()"
   ]
  },
  {
   "cell_type": "code",
   "execution_count": 9,
   "metadata": {},
   "outputs": [],
   "source": [
    "df ['product_id']= df['product_id'].astype(int)"
   ]
  },
  {
   "cell_type": "code",
   "execution_count": 11,
   "metadata": {},
   "outputs": [],
   "source": [
    "df ['shop_id']= df['shop_id'].astype(int)"
   ]
  },
  {
   "cell_type": "code",
   "execution_count": 12,
   "metadata": {},
   "outputs": [
    {
     "data": {
      "text/html": [
       "<div>\n",
       "<style scoped>\n",
       "    .dataframe tbody tr th:only-of-type {\n",
       "        vertical-align: middle;\n",
       "    }\n",
       "\n",
       "    .dataframe tbody tr th {\n",
       "        vertical-align: top;\n",
       "    }\n",
       "\n",
       "    .dataframe thead th {\n",
       "        text-align: right;\n",
       "    }\n",
       "</style>\n",
       "<table border=\"1\" class=\"dataframe\">\n",
       "  <thead>\n",
       "    <tr style=\"text-align: right;\">\n",
       "      <th></th>\n",
       "      <th>sale_date_date</th>\n",
       "      <th>contact_id</th>\n",
       "      <th>shop_id</th>\n",
       "      <th>product_id</th>\n",
       "      <th>name</th>\n",
       "      <th>product_sub_category_id</th>\n",
       "      <th>product_category_id</th>\n",
       "      <th>brand_id</th>\n",
       "      <th>quantity</th>\n",
       "    </tr>\n",
       "  </thead>\n",
       "  <tbody>\n",
       "    <tr>\n",
       "      <th>0</th>\n",
       "      <td>2018-12-07</td>\n",
       "      <td>1260627</td>\n",
       "      <td>1455</td>\n",
       "      <td>168308</td>\n",
       "      <td>(197312) Пакет-майка 25см х 45см</td>\n",
       "      <td>906.0</td>\n",
       "      <td>205.0</td>\n",
       "      <td>-1.0</td>\n",
       "      <td>1,00</td>\n",
       "    </tr>\n",
       "    <tr>\n",
       "      <th>1</th>\n",
       "      <td>2018-12-07</td>\n",
       "      <td>198287</td>\n",
       "      <td>279</td>\n",
       "      <td>134832</td>\n",
       "      <td>(62448) Перекись водорода р-р наружн. 3% фл.по...</td>\n",
       "      <td>404.0</td>\n",
       "      <td>93.0</td>\n",
       "      <td>-1.0</td>\n",
       "      <td>1,00</td>\n",
       "    </tr>\n",
       "    <tr>\n",
       "      <th>2</th>\n",
       "      <td>2018-12-07</td>\n",
       "      <td>2418385</td>\n",
       "      <td>848</td>\n",
       "      <td>101384</td>\n",
       "      <td>(72183) Салициловая кислота р-р спирт 2% фл 40...</td>\n",
       "      <td>404.0</td>\n",
       "      <td>93.0</td>\n",
       "      <td>-1.0</td>\n",
       "      <td>1,00</td>\n",
       "    </tr>\n",
       "    <tr>\n",
       "      <th>3</th>\n",
       "      <td>2018-12-07</td>\n",
       "      <td>1285774</td>\n",
       "      <td>1511</td>\n",
       "      <td>168570</td>\n",
       "      <td>(197309) Пакет 28см х 50см</td>\n",
       "      <td>906.0</td>\n",
       "      <td>205.0</td>\n",
       "      <td>-1.0</td>\n",
       "      <td>1,00</td>\n",
       "    </tr>\n",
       "    <tr>\n",
       "      <th>4</th>\n",
       "      <td>2018-12-07</td>\n",
       "      <td>1810323</td>\n",
       "      <td>1501</td>\n",
       "      <td>168319</td>\n",
       "      <td>(197310) Пакет 30см х 60см</td>\n",
       "      <td>906.0</td>\n",
       "      <td>205.0</td>\n",
       "      <td>-1.0</td>\n",
       "      <td>1,00</td>\n",
       "    </tr>\n",
       "    <tr>\n",
       "      <th>...</th>\n",
       "      <td>...</td>\n",
       "      <td>...</td>\n",
       "      <td>...</td>\n",
       "      <td>...</td>\n",
       "      <td>...</td>\n",
       "      <td>...</td>\n",
       "      <td>...</td>\n",
       "      <td>...</td>\n",
       "      <td>...</td>\n",
       "    </tr>\n",
       "    <tr>\n",
       "      <th>19999995</th>\n",
       "      <td>2018-06-13</td>\n",
       "      <td>1601618</td>\n",
       "      <td>1499</td>\n",
       "      <td>66842</td>\n",
       "      <td>(111992) Кэа Хэлс Ромашка [цветки фильтр-пакет...</td>\n",
       "      <td>615.0</td>\n",
       "      <td>140.0</td>\n",
       "      <td>1838.0</td>\n",
       "      <td>1,00</td>\n",
       "    </tr>\n",
       "    <tr>\n",
       "      <th>19999996</th>\n",
       "      <td>2018-06-13</td>\n",
       "      <td>1394104</td>\n",
       "      <td>1495</td>\n",
       "      <td>136795</td>\n",
       "      <td>(97857) Лориста Н таб. п.о. 50мг+12.5мг №90</td>\n",
       "      <td>738.0</td>\n",
       "      <td>170.0</td>\n",
       "      <td>-1.0</td>\n",
       "      <td>1,00</td>\n",
       "    </tr>\n",
       "    <tr>\n",
       "      <th>19999997</th>\n",
       "      <td>2018-06-13</td>\n",
       "      <td>1570654</td>\n",
       "      <td>1516</td>\n",
       "      <td>119513</td>\n",
       "      <td>(25299) Локрен тб п/о 20мг N28</td>\n",
       "      <td>738.0</td>\n",
       "      <td>170.0</td>\n",
       "      <td>-1.0</td>\n",
       "      <td>1,00</td>\n",
       "    </tr>\n",
       "    <tr>\n",
       "      <th>19999998</th>\n",
       "      <td>2018-06-13</td>\n",
       "      <td>1924036</td>\n",
       "      <td>1485</td>\n",
       "      <td>71723</td>\n",
       "      <td>(60907) Тералиджен табл. п.п.о. 5 мг №25</td>\n",
       "      <td>637.0</td>\n",
       "      <td>146.0</td>\n",
       "      <td>-1.0</td>\n",
       "      <td>1,00</td>\n",
       "    </tr>\n",
       "    <tr>\n",
       "      <th>19999999</th>\n",
       "      <td>2018-06-13</td>\n",
       "      <td>1788779</td>\n",
       "      <td>1503</td>\n",
       "      <td>66164</td>\n",
       "      <td>(27922) Дифлюкан капс. 150 мг. №1</td>\n",
       "      <td>622.0</td>\n",
       "      <td>142.0</td>\n",
       "      <td>-1.0</td>\n",
       "      <td>1,00</td>\n",
       "    </tr>\n",
       "  </tbody>\n",
       "</table>\n",
       "<p>19989262 rows × 9 columns</p>\n",
       "</div>"
      ],
      "text/plain": [
       "         sale_date_date contact_id  shop_id  product_id  \\\n",
       "0            2018-12-07    1260627     1455      168308   \n",
       "1            2018-12-07     198287      279      134832   \n",
       "2            2018-12-07    2418385      848      101384   \n",
       "3            2018-12-07    1285774     1511      168570   \n",
       "4            2018-12-07    1810323     1501      168319   \n",
       "...                 ...        ...      ...         ...   \n",
       "19999995     2018-06-13    1601618     1499       66842   \n",
       "19999996     2018-06-13    1394104     1495      136795   \n",
       "19999997     2018-06-13    1570654     1516      119513   \n",
       "19999998     2018-06-13    1924036     1485       71723   \n",
       "19999999     2018-06-13    1788779     1503       66164   \n",
       "\n",
       "                                                       name  \\\n",
       "0                          (197312) Пакет-майка 25см х 45см   \n",
       "1         (62448) Перекись водорода р-р наружн. 3% фл.по...   \n",
       "2         (72183) Салициловая кислота р-р спирт 2% фл 40...   \n",
       "3                                (197309) Пакет 28см х 50см   \n",
       "4                                (197310) Пакет 30см х 60см   \n",
       "...                                                     ...   \n",
       "19999995  (111992) Кэа Хэлс Ромашка [цветки фильтр-пакет...   \n",
       "19999996        (97857) Лориста Н таб. п.о. 50мг+12.5мг №90   \n",
       "19999997                     (25299) Локрен тб п/о 20мг N28   \n",
       "19999998           (60907) Тералиджен табл. п.п.о. 5 мг №25   \n",
       "19999999                  (27922) Дифлюкан капс. 150 мг. №1   \n",
       "\n",
       "          product_sub_category_id  product_category_id  brand_id quantity  \n",
       "0                           906.0                205.0      -1.0     1,00  \n",
       "1                           404.0                 93.0      -1.0     1,00  \n",
       "2                           404.0                 93.0      -1.0     1,00  \n",
       "3                           906.0                205.0      -1.0     1,00  \n",
       "4                           906.0                205.0      -1.0     1,00  \n",
       "...                           ...                  ...       ...      ...  \n",
       "19999995                    615.0                140.0    1838.0     1,00  \n",
       "19999996                    738.0                170.0      -1.0     1,00  \n",
       "19999997                    738.0                170.0      -1.0     1,00  \n",
       "19999998                    637.0                146.0      -1.0     1,00  \n",
       "19999999                    622.0                142.0      -1.0     1,00  \n",
       "\n",
       "[19989262 rows x 9 columns]"
      ]
     },
     "execution_count": 12,
     "metadata": {},
     "output_type": "execute_result"
    }
   ],
   "source": [
    "df"
   ]
  },
  {
   "cell_type": "code",
   "execution_count": 13,
   "metadata": {},
   "outputs": [],
   "source": [
    "# Изменение типа стоблца\n",
    "df ['contact_id']= df['contact_id'].astype(int)"
   ]
  },
  {
   "cell_type": "code",
   "execution_count": 14,
   "metadata": {},
   "outputs": [
    {
     "data": {
      "text/plain": [
       "1631"
      ]
     },
     "execution_count": 14,
     "metadata": {},
     "output_type": "execute_result"
    }
   ],
   "source": [
    "# Уникальные значения столбца\n",
    "len(df['brand_id'].unique())"
   ]
  },
  {
   "cell_type": "code",
   "execution_count": 15,
   "metadata": {},
   "outputs": [
    {
     "data": {
      "text/plain": [
       "(19989262, 9)"
      ]
     },
     "execution_count": 15,
     "metadata": {},
     "output_type": "execute_result"
    }
   ],
   "source": [
    "df.shape"
   ]
  },
  {
   "cell_type": "code",
   "execution_count": 16,
   "metadata": {},
   "outputs": [
    {
     "data": {
      "text/plain": [
       "sale_date_date              object\n",
       "contact_id                   int32\n",
       "shop_id                      int32\n",
       "product_id                   int32\n",
       "name                        object\n",
       "product_sub_category_id    float64\n",
       "product_category_id        float64\n",
       "brand_id                   float64\n",
       "quantity                    object\n",
       "dtype: object"
      ]
     },
     "execution_count": 16,
     "metadata": {},
     "output_type": "execute_result"
    }
   ],
   "source": [
    "df.dtypes"
   ]
  },
  {
   "cell_type": "code",
   "execution_count": 17,
   "metadata": {},
   "outputs": [],
   "source": [
    "df ['product_id'] = df ['product_id']. astype (str)"
   ]
  },
  {
   "cell_type": "code",
   "execution_count": 18,
   "metadata": {},
   "outputs": [
    {
     "name": "stdout",
     "output_type": "stream",
     "text": [
      "['contact_id' 'shop_id' 'product_sub_category_id' 'product_category_id'\n",
      " 'brand_id']\n"
     ]
    }
   ],
   "source": [
    "# отбор числовых колонок\n",
    "df_numeric = df.select_dtypes(include=[np.number])\n",
    "numeric_cols = df_numeric.columns.values\n",
    "print(numeric_cols)"
   ]
  },
  {
   "cell_type": "code",
   "execution_count": 19,
   "metadata": {},
   "outputs": [
    {
     "name": "stdout",
     "output_type": "stream",
     "text": [
      "['sale_date_date' 'product_id' 'name' 'quantity']\n"
     ]
    }
   ],
   "source": [
    "# отбор нечисловых колонок\n",
    "df_non_numeric = df.select_dtypes(exclude=[np.number])\n",
    "non_numeric_cols = df_non_numeric.columns.values\n",
    "print(non_numeric_cols)"
   ]
  },
  {
   "cell_type": "code",
   "execution_count": 20,
   "metadata": {},
   "outputs": [
    {
     "data": {
      "text/plain": [
       "<AxesSubplot:>"
      ]
     },
     "execution_count": 20,
     "metadata": {},
     "output_type": "execute_result"
    },
    {
     "data": {
      "image/png": "[encoded data removed]",
      "text/plain": [
       "<Figure size 864x576 with 2 Axes>"
      ]
     },
     "metadata": {
      "needs_background": "light"
     },
     "output_type": "display_data"
    }
   ],
   "source": [
    "# Проверка на пропуск данных\n",
    "cols = df.columns[:30] # первые 30 колонок\n",
    "# определяем цвета \n",
    "# желтый - пропущенные данные, синий - не пропущенные\n",
    "colours = ['#000099', '#ffff00'] \n",
    "sns.heatmap(df[cols].isnull(), cmap=sns.color_palette(colours))"
   ]
  },
  {
   "cell_type": "code",
   "execution_count": 21,
   "metadata": {},
   "outputs": [
    {
     "data": {
      "text/plain": [
       "count    1.998926e+07\n",
       "mean     4.072123e+02\n",
       "std      9.930664e+02\n",
       "min     -1.000000e+00\n",
       "25%     -1.000000e+00\n",
       "50%     -1.000000e+00\n",
       "75%     -1.000000e+00\n",
       "max      5.475000e+03\n",
       "Name: brand_id, dtype: float64"
      ]
     },
     "execution_count": 21,
     "metadata": {},
     "output_type": "execute_result"
    }
   ],
   "source": [
    "# Расчет основных показателей: среднее значение, стандартное отклонение и тд.\n",
    "df['brand_id'].describe()"
   ]
  },
  {
   "cell_type": "code",
   "execution_count": 22,
   "metadata": {},
   "outputs": [],
   "source": [
    "# Удаление стоблца.\n",
    "del df['brand_id']"
   ]
  },
  {
   "cell_type": "code",
   "execution_count": 23,
   "metadata": {},
   "outputs": [
    {
     "data": {
      "text/html": [
       "<div>\n",
       "<style scoped>\n",
       "    .dataframe tbody tr th:only-of-type {\n",
       "        vertical-align: middle;\n",
       "    }\n",
       "\n",
       "    .dataframe tbody tr th {\n",
       "        vertical-align: top;\n",
       "    }\n",
       "\n",
       "    .dataframe thead th {\n",
       "        text-align: right;\n",
       "    }\n",
       "</style>\n",
       "<table border=\"1\" class=\"dataframe\">\n",
       "  <thead>\n",
       "    <tr style=\"text-align: right;\">\n",
       "      <th></th>\n",
       "      <th>sale_date_date</th>\n",
       "      <th>contact_id</th>\n",
       "      <th>shop_id</th>\n",
       "      <th>product_id</th>\n",
       "      <th>name</th>\n",
       "      <th>product_sub_category_id</th>\n",
       "      <th>product_category_id</th>\n",
       "      <th>quantity</th>\n",
       "    </tr>\n",
       "  </thead>\n",
       "  <tbody>\n",
       "    <tr>\n",
       "      <th>0</th>\n",
       "      <td>2018-12-07</td>\n",
       "      <td>1260627</td>\n",
       "      <td>1455</td>\n",
       "      <td>168308</td>\n",
       "      <td>(197312) Пакет-майка 25см х 45см</td>\n",
       "      <td>906.0</td>\n",
       "      <td>205.0</td>\n",
       "      <td>1,00</td>\n",
       "    </tr>\n",
       "    <tr>\n",
       "      <th>1</th>\n",
       "      <td>2018-12-07</td>\n",
       "      <td>198287</td>\n",
       "      <td>279</td>\n",
       "      <td>134832</td>\n",
       "      <td>(62448) Перекись водорода р-р наружн. 3% фл.по...</td>\n",
       "      <td>404.0</td>\n",
       "      <td>93.0</td>\n",
       "      <td>1,00</td>\n",
       "    </tr>\n",
       "    <tr>\n",
       "      <th>2</th>\n",
       "      <td>2018-12-07</td>\n",
       "      <td>2418385</td>\n",
       "      <td>848</td>\n",
       "      <td>101384</td>\n",
       "      <td>(72183) Салициловая кислота р-р спирт 2% фл 40...</td>\n",
       "      <td>404.0</td>\n",
       "      <td>93.0</td>\n",
       "      <td>1,00</td>\n",
       "    </tr>\n",
       "    <tr>\n",
       "      <th>3</th>\n",
       "      <td>2018-12-07</td>\n",
       "      <td>1285774</td>\n",
       "      <td>1511</td>\n",
       "      <td>168570</td>\n",
       "      <td>(197309) Пакет 28см х 50см</td>\n",
       "      <td>906.0</td>\n",
       "      <td>205.0</td>\n",
       "      <td>1,00</td>\n",
       "    </tr>\n",
       "    <tr>\n",
       "      <th>4</th>\n",
       "      <td>2018-12-07</td>\n",
       "      <td>1810323</td>\n",
       "      <td>1501</td>\n",
       "      <td>168319</td>\n",
       "      <td>(197310) Пакет 30см х 60см</td>\n",
       "      <td>906.0</td>\n",
       "      <td>205.0</td>\n",
       "      <td>1,00</td>\n",
       "    </tr>\n",
       "    <tr>\n",
       "      <th>...</th>\n",
       "      <td>...</td>\n",
       "      <td>...</td>\n",
       "      <td>...</td>\n",
       "      <td>...</td>\n",
       "      <td>...</td>\n",
       "      <td>...</td>\n",
       "      <td>...</td>\n",
       "      <td>...</td>\n",
       "    </tr>\n",
       "    <tr>\n",
       "      <th>19999995</th>\n",
       "      <td>2018-06-13</td>\n",
       "      <td>1601618</td>\n",
       "      <td>1499</td>\n",
       "      <td>66842</td>\n",
       "      <td>(111992) Кэа Хэлс Ромашка [цветки фильтр-пакет...</td>\n",
       "      <td>615.0</td>\n",
       "      <td>140.0</td>\n",
       "      <td>1,00</td>\n",
       "    </tr>\n",
       "    <tr>\n",
       "      <th>19999996</th>\n",
       "      <td>2018-06-13</td>\n",
       "      <td>1394104</td>\n",
       "      <td>1495</td>\n",
       "      <td>136795</td>\n",
       "      <td>(97857) Лориста Н таб. п.о. 50мг+12.5мг №90</td>\n",
       "      <td>738.0</td>\n",
       "      <td>170.0</td>\n",
       "      <td>1,00</td>\n",
       "    </tr>\n",
       "    <tr>\n",
       "      <th>19999997</th>\n",
       "      <td>2018-06-13</td>\n",
       "      <td>1570654</td>\n",
       "      <td>1516</td>\n",
       "      <td>119513</td>\n",
       "      <td>(25299) Локрен тб п/о 20мг N28</td>\n",
       "      <td>738.0</td>\n",
       "      <td>170.0</td>\n",
       "      <td>1,00</td>\n",
       "    </tr>\n",
       "    <tr>\n",
       "      <th>19999998</th>\n",
       "      <td>2018-06-13</td>\n",
       "      <td>1924036</td>\n",
       "      <td>1485</td>\n",
       "      <td>71723</td>\n",
       "      <td>(60907) Тералиджен табл. п.п.о. 5 мг №25</td>\n",
       "      <td>637.0</td>\n",
       "      <td>146.0</td>\n",
       "      <td>1,00</td>\n",
       "    </tr>\n",
       "    <tr>\n",
       "      <th>19999999</th>\n",
       "      <td>2018-06-13</td>\n",
       "      <td>1788779</td>\n",
       "      <td>1503</td>\n",
       "      <td>66164</td>\n",
       "      <td>(27922) Дифлюкан капс. 150 мг. №1</td>\n",
       "      <td>622.0</td>\n",
       "      <td>142.0</td>\n",
       "      <td>1,00</td>\n",
       "    </tr>\n",
       "  </tbody>\n",
       "</table>\n",
       "<p>19989262 rows × 8 columns</p>\n",
       "</div>"
      ],
      "text/plain": [
       "         sale_date_date  contact_id  shop_id product_id  \\\n",
       "0            2018-12-07     1260627     1455     168308   \n",
       "1            2018-12-07      198287      279     134832   \n",
       "2            2018-12-07     2418385      848     101384   \n",
       "3            2018-12-07     1285774     1511     168570   \n",
       "4            2018-12-07     1810323     1501     168319   \n",
       "...                 ...         ...      ...        ...   \n",
       "19999995     2018-06-13     1601618     1499      66842   \n",
       "19999996     2018-06-13     1394104     1495     136795   \n",
       "19999997     2018-06-13     1570654     1516     119513   \n",
       "19999998     2018-06-13     1924036     1485      71723   \n",
       "19999999     2018-06-13     1788779     1503      66164   \n",
       "\n",
       "                                                       name  \\\n",
       "0                          (197312) Пакет-майка 25см х 45см   \n",
       "1         (62448) Перекись водорода р-р наружн. 3% фл.по...   \n",
       "2         (72183) Салициловая кислота р-р спирт 2% фл 40...   \n",
       "3                                (197309) Пакет 28см х 50см   \n",
       "4                                (197310) Пакет 30см х 60см   \n",
       "...                                                     ...   \n",
       "19999995  (111992) Кэа Хэлс Ромашка [цветки фильтр-пакет...   \n",
       "19999996        (97857) Лориста Н таб. п.о. 50мг+12.5мг №90   \n",
       "19999997                     (25299) Локрен тб п/о 20мг N28   \n",
       "19999998           (60907) Тералиджен табл. п.п.о. 5 мг №25   \n",
       "19999999                  (27922) Дифлюкан капс. 150 мг. №1   \n",
       "\n",
       "          product_sub_category_id  product_category_id quantity  \n",
       "0                           906.0                205.0     1,00  \n",
       "1                           404.0                 93.0     1,00  \n",
       "2                           404.0                 93.0     1,00  \n",
       "3                           906.0                205.0     1,00  \n",
       "4                           906.0                205.0     1,00  \n",
       "...                           ...                  ...      ...  \n",
       "19999995                    615.0                140.0     1,00  \n",
       "19999996                    738.0                170.0     1,00  \n",
       "19999997                    738.0                170.0     1,00  \n",
       "19999998                    637.0                146.0     1,00  \n",
       "19999999                    622.0                142.0     1,00  \n",
       "\n",
       "[19989262 rows x 8 columns]"
      ]
     },
     "execution_count": 23,
     "metadata": {},
     "output_type": "execute_result"
    }
   ],
   "source": [
    "df"
   ]
  },
  {
   "cell_type": "markdown",
   "metadata": {},
   "source": [
    "#### Уникальные клиенты"
   ]
  },
  {
   "cell_type": "code",
   "execution_count": 24,
   "metadata": {},
   "outputs": [
    {
     "data": {
      "text/plain": [
       "1642125"
      ]
     },
     "execution_count": 24,
     "metadata": {},
     "output_type": "execute_result"
    }
   ],
   "source": [
    "customers = df [\"contact_id\"]. unique (). tolist ()\n",
    "len (customers)"
   ]
  },
  {
   "cell_type": "markdown",
   "metadata": {},
   "source": [
    "#### Выделим небольшую часть набора данных, 90% клиентов для создания вложений word2vec. Разделим данные."
   ]
  },
  {
   "cell_type": "code",
   "execution_count": 25,
   "metadata": {},
   "outputs": [],
   "source": [
    "# перемешиваем идентификаторы клиентов\n",
    "random.shuffle(customers)\n",
    "\n",
    "# извлекаем 90% идентификаторов клиентов\n",
    "customers_train = [customers[i] for i in range(round(0.9*len(customers)))]\n",
    "\n",
    "# разделим данные на выборки для обучения и проверки\n",
    "train_df = df[df['contact_id'].isin(customers_train)]\n",
    "validation_df = df[~df['contact_id'].isin(customers_train)]"
   ]
  },
  {
   "cell_type": "markdown",
   "metadata": {},
   "source": [
    "#### Cоздадим последовательности покупок, сделанных клиентами, в наборе данных."
   ]
  },
  {
   "cell_type": "code",
   "execution_count": 26,
   "metadata": {},
   "outputs": [
    {
     "name": "stderr",
     "output_type": "stream",
     "text": [
      "100%|██████████████████████████████████████████████████████████████████████| 1477912/1477912 [6:37:39<00:00, 61.94it/s]\n"
     ]
    }
   ],
   "source": [
    "# Создаем список клентов\n",
    "purchases_train = []\n",
    "\n",
    "#Заполняем его кодами покупок\n",
    "for i in tqdm(customers_train):\n",
    "    temp = train_df[train_df[\"contact_id\"] == i][\"product_id\"].tolist()\n",
    "    purchases_train.append(temp)"
   ]
  },
  {
   "cell_type": "code",
   "execution_count": 27,
   "metadata": {},
   "outputs": [
    {
     "name": "stderr",
     "output_type": "stream",
     "text": [
      "100%|█████████████████████████████████████████████████████████████████████████| 164213/164213 [07:28<00:00, 366.06it/s]\n"
     ]
    }
   ],
   "source": [
    "# Создаем список клентов\n",
    "purchases_val = []\n",
    "\n",
    "#Заполняем его кодами покупок\n",
    "for i in tqdm(validation_df['contact_id'].unique()):\n",
    "    temp = validation_df[validation_df[\"contact_id\"] == i][\"product_id\"].tolist()\n",
    "    purchases_val.append(temp)"
   ]
  },
  {
   "cell_type": "markdown",
   "metadata": {},
   "source": [
    "#### Создание вложений word2vec для продуктов"
   ]
  },
  {
   "cell_type": "code",
   "execution_count": 28,
   "metadata": {},
   "outputs": [
    {
     "data": {
      "text/plain": [
       "(177003431, 179950720)"
      ]
     },
     "execution_count": 28,
     "metadata": {},
     "output_type": "execute_result"
    }
   ],
   "source": [
    "# Обучаем нашу модель Word2Vec\n",
    "\n",
    "model = Word2Vec(window = 10, sg = 1, hs = 0,\n",
    "                 negative = 10, \n",
    "                 alpha=0.03, min_alpha=0.0007,\n",
    "                 seed = 14)\n",
    "\n",
    "model.build_vocab(purchases_train, progress_per=200)\n",
    "\n",
    "model.train(purchases_train, total_examples = model.corpus_count, \n",
    "            epochs=10, report_delay=1)"
   ]
  },
  {
   "cell_type": "code",
   "execution_count": 29,
   "metadata": {},
   "outputs": [],
   "source": [
    "# Поскольку мы не планируем дальше обучать модель, мы вызываем здесь init_sims () . Это сделает модель намного более эффективной с точки зрения памяти\n",
    "model.init_sims(replace=True)"
   ]
  },
  {
   "cell_type": "code",
   "execution_count": 30,
   "metadata": {},
   "outputs": [
    {
     "name": "stdout",
     "output_type": "stream",
     "text": [
      "Word2Vec(vocab=22218, size=100, alpha=0.03)\n"
     ]
    }
   ],
   "source": [
    "# Уточняем кол-во уникальных слов\n",
    "print(model)"
   ]
  },
  {
   "cell_type": "markdown",
   "metadata": {},
   "source": [
    "#### Наша модель имеет словарь из 6022 уникального слова и их векторов размером 100 каждый. Затем мы извлечем векторы всех слов в нашем словаре и сохраним их в одном месте для легкого доступа."
   ]
  },
  {
   "cell_type": "code",
   "execution_count": 31,
   "metadata": {},
   "outputs": [
    {
     "data": {
      "text/plain": [
       "(22218, 100)"
      ]
     },
     "execution_count": 31,
     "metadata": {},
     "output_type": "execute_result"
    }
   ],
   "source": [
    "# Извлекаем кол-во векторов\n",
    "X = model[model.wv.vocab]\n",
    "\n",
    "X.shape"
   ]
  },
  {
   "cell_type": "code",
   "execution_count": 33,
   "metadata": {},
   "outputs": [
    {
     "name": "stdout",
     "output_type": "stream",
     "text": [
      "Requirement already satisfied: umap-learn in c:\\programdata\\anaconda3\\lib\\site-packages (0.5.2)Note: you may need to restart the kernel to use updated packages.\n",
      "\n",
      "Requirement already satisfied: pynndescent>=0.5 in c:\\programdata\\anaconda3\\lib\\site-packages (from umap-learn) (0.5.5)\n",
      "Requirement already satisfied: scipy>=1.0 in c:\\programdata\\anaconda3\\lib\\site-packages (from umap-learn) (1.6.2)\n",
      "Requirement already satisfied: numba>=0.49 in c:\\programdata\\anaconda3\\lib\\site-packages (from umap-learn) (0.53.1)\n",
      "Requirement already satisfied: numpy>=1.17 in c:\\programdata\\anaconda3\\lib\\site-packages (from umap-learn) (1.20.1)\n",
      "Requirement already satisfied: tqdm in c:\\programdata\\anaconda3\\lib\\site-packages (from umap-learn) (4.59.0)\n",
      "Requirement already satisfied: scikit-learn>=0.22 in c:\\programdata\\anaconda3\\lib\\site-packages (from umap-learn) (0.24.1)\n",
      "Requirement already satisfied: setuptools in c:\\programdata\\anaconda3\\lib\\site-packages (from numba>=0.49->umap-learn) (52.0.0.post20210125)\n",
      "Requirement already satisfied: llvmlite<0.37,>=0.36.0rc1 in c:\\programdata\\anaconda3\\lib\\site-packages (from numba>=0.49->umap-learn) (0.36.0)\n",
      "Requirement already satisfied: joblib>=0.11 in c:\\programdata\\anaconda3\\lib\\site-packages (from pynndescent>=0.5->umap-learn) (1.0.1)\n",
      "Requirement already satisfied: threadpoolctl>=2.0.0 in c:\\programdata\\anaconda3\\lib\\site-packages (from scikit-learn>=0.22->umap-learn) (2.1.0)\n"
     ]
    }
   ],
   "source": [
    "# установка umap-learn\n",
    "pip install umap-learn"
   ]
  },
  {
   "cell_type": "code",
   "execution_count": 34,
   "metadata": {},
   "outputs": [
    {
     "data": {
      "text/plain": [
       "<matplotlib.collections.PathCollection at 0x228b20b1e50>"
      ]
     },
     "execution_count": 34,
     "metadata": {},
     "output_type": "execute_result"
    },
    {
     "data": {
      "image/png": "[encoded data removed]",
      "text/plain": [
       "<Figure size 720x648 with 1 Axes>"
      ]
     },
     "metadata": {
      "needs_background": "light"
     },
     "output_type": "display_data"
    }
   ],
   "source": [
    "# Уменьшаем размер векторов со 100 до 2, используя алгоритм UMAP и визуализируем\n",
    "import umap\n",
    "\n",
    "cluster_embedding = umap.UMAP(n_neighbors=30, min_dist=0.0,\n",
    "                              n_components=2, random_state=42).fit_transform(X)\n",
    "\n",
    "plt.figure(figsize=(10,9))\n",
    "plt.scatter(cluster_embedding[:, 0], cluster_embedding[:, 1], s=3, cmap='Spectral')"
   ]
  },
  {
   "cell_type": "code",
   "execution_count": 35,
   "metadata": {},
   "outputs": [],
   "source": [
    "products = train_df[[\"product_id\", \"name\"]]\n",
    "\n",
    "# Удаляем дубликаты\n",
    "products.drop_duplicates(inplace=True, subset='product_id', keep=\"last\")\n",
    "\n",
    "# создаем словарь продуктов\n",
    "products_dict = products.groupby('product_id')['name'].apply(list).to_dict()"
   ]
  },
  {
   "cell_type": "markdown",
   "metadata": {},
   "source": [
    "#### Проверка словаря"
   ]
  },
  {
   "cell_type": "code",
   "execution_count": 44,
   "metadata": {},
   "outputs": [
    {
     "data": {
      "text/plain": [
       "['(62448) Перекись водорода р-р наружн. 3% фл.полимерн. 100мл']"
      ]
     },
     "execution_count": 44,
     "metadata": {},
     "output_type": "execute_result"
    }
   ],
   "source": [
    "products_dict ['134832']"
   ]
  },
  {
   "cell_type": "code",
   "execution_count": 45,
   "metadata": {},
   "outputs": [],
   "source": [
    "# Выводим 6 схожих товаров\n",
    "def similar_products(v, n = 6):\n",
    "    \n",
    "    ms = model.similar_by_vector(v, topn= n+1)[1:]\n",
    "    \n",
    "    new_ms = []\n",
    "    for j in ms:\n",
    "        pair = (products_dict[j[0]][0], j[1])\n",
    "        new_ms.append(pair)\n",
    "        \n",
    "    return new_ms  "
   ]
  },
  {
   "cell_type": "code",
   "execution_count": 46,
   "metadata": {},
   "outputs": [
    {
     "data": {
      "text/plain": [
       "[('(12716) Перекись водорода р-р наружн. 3% фл.полимерн. 100мл',\n",
       "  0.9045730829238892),\n",
       " ('(67954) Йода р-р спирт 5% фл 10мл N1 с крышкой-помазком Renewal',\n",
       "  0.8358113765716553),\n",
       " ('(39407) Йода р-р спирт 5% фл 10мл N1', 0.8343015313148499),\n",
       " ('(114892) Нью Лайф Бинт марл мед стер 5м х 10см уп N1/СТМ',\n",
       "  0.8314892649650574),\n",
       " ('(24768) Йода р-р спирт 5% фл 10мл N1', 0.8145346641540527),\n",
       " ('(10283) Бриллиантовый зеленый р-р спирт 1% фл 10мл N1 с винтовой крышкой',\n",
       "  0.8065400123596191)]"
      ]
     },
     "execution_count": 46,
     "metadata": {},
     "output_type": "execute_result"
    }
   ],
   "source": [
    "#Проверка\n",
    "similar_products(model['134832'])"
   ]
  },
  {
   "cell_type": "markdown",
   "metadata": {},
   "source": [
    "#### Результаты довольно актуальны и хорошо соответствуют исходному продукту. Однако этот вывод основан на векторе только одного продукта. Возьмем среднее значение всех векторов продуктов"
   ]
  },
  {
   "cell_type": "code",
   "execution_count": 47,
   "metadata": {},
   "outputs": [],
   "source": [
    "def aggregate_vectors(products):\n",
    "    product_vec = []\n",
    "    for i in products:\n",
    "        try:\n",
    "            product_vec.append(model[i])\n",
    "        except KeyError:\n",
    "            continue\n",
    "        \n",
    "    return np.mean(product_vec, axis=0)"
   ]
  },
  {
   "cell_type": "code",
   "execution_count": 48,
   "metadata": {},
   "outputs": [
    {
     "data": {
      "text/plain": [
       "8"
      ]
     },
     "execution_count": 48,
     "metadata": {},
     "output_type": "execute_result"
    }
   ],
   "source": [
    "# Изпользуем проверочные данные\n",
    "len(purchases_val[0])"
   ]
  },
  {
   "cell_type": "code",
   "execution_count": 49,
   "metadata": {},
   "outputs": [
    {
     "data": {
      "text/plain": [
       "(100,)"
      ]
     },
     "execution_count": 49,
     "metadata": {},
     "output_type": "execute_result"
    }
   ],
   "source": [
    "#Проверяем работу функции\n",
    "aggregate_vectors(purchases_val[0]).shape"
   ]
  },
  {
   "cell_type": "code",
   "execution_count": 57,
   "metadata": {},
   "outputs": [
    {
     "data": {
      "text/plain": [
       "[('(111747) Рибоксин Авексима тб 200мг N50', 0.7695198059082031),\n",
       " ('(103365) Аспаркам таб.№56 Renewal', 0.7635525465011597),\n",
       " ('(40583) Милдронат капс 250мг N40', 0.7612074613571167),\n",
       " ('(56791) Милдронат капс 500мг №60', 0.7290228009223938),\n",
       " ('(180739) Омепразол-Акрихин капс.кишечнораст.20мг №30', 0.7213425636291504),\n",
       " ('(118115) Предуктал ОД капс.пролонг.действия 80мг №30', 0.7078867554664612)]"
      ]
     },
     "execution_count": 57,
     "metadata": {},
     "output_type": "execute_result"
    }
   ],
   "source": [
    "# Находим похожие товары\n",
    "similar_products(aggregate_vectors(purchases_val[0]))"
   ]
  },
  {
   "cell_type": "code",
   "execution_count": null,
   "metadata": {},
   "outputs": [],
   "source": []
  }
 ],
 "metadata": {
  "kernelspec": {
   "display_name": "Python 3",
   "language": "python",
   "name": "python3"
  },
  "language_info": {
   "codemirror_mode": {
    "name": "ipython",
    "version": 3
   },
   "file_extension": ".py",
   "mimetype": "text/x-python",
   "name": "python",
   "nbconvert_exporter": "python",
   "pygments_lexer": "ipython3",
   "version": "3.8.8"
  }
 },
 "nbformat": 4,
 "nbformat_minor": 4
}
