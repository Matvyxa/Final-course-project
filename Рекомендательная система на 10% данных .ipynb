{
 "cells": [
  {
   "cell_type": "code",
   "execution_count": 1,
   "metadata": {},
   "outputs": [
    {
     "name": "stdout",
     "output_type": "stream",
     "text": [
      "Requirement already satisfied: Gensim==3.8.3 in c:\\programdata\\anaconda3\\lib\\site-packages (3.8.3)\n",
      "Requirement already satisfied: smart-open>=1.8.1 in c:\\programdata\\anaconda3\\lib\\site-packages (from Gensim==3.8.3) (5.2.1)\n",
      "Requirement already satisfied: numpy>=1.11.3 in c:\\programdata\\anaconda3\\lib\\site-packages (from Gensim==3.8.3) (1.20.1)\n",
      "Requirement already satisfied: six>=1.5.0 in c:\\programdata\\anaconda3\\lib\\site-packages (from Gensim==3.8.3) (1.15.0)\n",
      "Requirement already satisfied: Cython==0.29.14 in c:\\programdata\\anaconda3\\lib\\site-packages (from Gensim==3.8.3) (0.29.14)\n",
      "Requirement already satisfied: scipy>=0.18.1 in c:\\programdata\\anaconda3\\lib\\site-packages (from Gensim==3.8.3) (1.6.2)\n",
      "Note: you may need to restart the kernel to use updated packages.\n"
     ]
    }
   ],
   "source": [
    "pip install Gensim==3.8.3"
   ]
  },
  {
   "cell_type": "code",
   "execution_count": 2,
   "metadata": {},
   "outputs": [],
   "source": [
    "import pandas as pd\n",
    "import numpy as np\n",
    "import seaborn as sns\n",
    "import gensim \n",
    "import random\n",
    "from tqdm import tqdm\n",
    "from gensim.models import Word2Vec \n",
    "\n",
    "import matplotlib.pyplot as plt\n",
    "import matplotlib.mlab as mlab\n",
    "import matplotlib\n",
    "plt.style.use('ggplot')\n",
    "from matplotlib.pyplot import figure\n",
    "\n",
    "%matplotlib inline\n",
    "matplotlib.rcParams['figure.figsize'] = (12,8)\n",
    "\n",
    "pd.options.mode.chained_assignment = None\n",
    "\n",
    "import warnings;\n",
    "warnings.filterwarnings('ignore')"
   ]
  },
  {
   "cell_type": "code",
   "execution_count": 34,
   "metadata": {},
   "outputs": [
    {
     "data": {
      "text/html": [
       "<div>\n",
       "<style scoped>\n",
       "    .dataframe tbody tr th:only-of-type {\n",
       "        vertical-align: middle;\n",
       "    }\n",
       "\n",
       "    .dataframe tbody tr th {\n",
       "        vertical-align: top;\n",
       "    }\n",
       "\n",
       "    .dataframe thead th {\n",
       "        text-align: right;\n",
       "    }\n",
       "</style>\n",
       "<table border=\"1\" class=\"dataframe\">\n",
       "  <thead>\n",
       "    <tr style=\"text-align: right;\">\n",
       "      <th></th>\n",
       "      <th>sale_date_date</th>\n",
       "      <th>contact_id</th>\n",
       "      <th>shop_id</th>\n",
       "      <th>product_id</th>\n",
       "      <th>name</th>\n",
       "      <th>product_sub_category_id</th>\n",
       "      <th>product_category_id</th>\n",
       "      <th>brand_id</th>\n",
       "      <th>quantity</th>\n",
       "    </tr>\n",
       "  </thead>\n",
       "  <tbody>\n",
       "    <tr>\n",
       "      <th>0</th>\n",
       "      <td>2018-12-07</td>\n",
       "      <td>1260627</td>\n",
       "      <td>1455.0</td>\n",
       "      <td>168308.0</td>\n",
       "      <td>(197312) Пакет-майка 25см х 45см</td>\n",
       "      <td>906.0</td>\n",
       "      <td>205.0</td>\n",
       "      <td>-1.0</td>\n",
       "      <td>1,00</td>\n",
       "    </tr>\n",
       "    <tr>\n",
       "      <th>1</th>\n",
       "      <td>2018-12-07</td>\n",
       "      <td>198287</td>\n",
       "      <td>279.0</td>\n",
       "      <td>134832.0</td>\n",
       "      <td>(62448) Перекись водорода р-р наружн. 3% фл.по...</td>\n",
       "      <td>404.0</td>\n",
       "      <td>93.0</td>\n",
       "      <td>-1.0</td>\n",
       "      <td>1,00</td>\n",
       "    </tr>\n",
       "    <tr>\n",
       "      <th>2</th>\n",
       "      <td>2018-12-07</td>\n",
       "      <td>2418385</td>\n",
       "      <td>848.0</td>\n",
       "      <td>101384.0</td>\n",
       "      <td>(72183) Салициловая кислота р-р спирт 2% фл 40...</td>\n",
       "      <td>404.0</td>\n",
       "      <td>93.0</td>\n",
       "      <td>-1.0</td>\n",
       "      <td>1,00</td>\n",
       "    </tr>\n",
       "    <tr>\n",
       "      <th>3</th>\n",
       "      <td>2018-12-07</td>\n",
       "      <td>1285774</td>\n",
       "      <td>1511.0</td>\n",
       "      <td>168570.0</td>\n",
       "      <td>(197309) Пакет 28см х 50см</td>\n",
       "      <td>906.0</td>\n",
       "      <td>205.0</td>\n",
       "      <td>-1.0</td>\n",
       "      <td>1,00</td>\n",
       "    </tr>\n",
       "    <tr>\n",
       "      <th>4</th>\n",
       "      <td>2018-12-07</td>\n",
       "      <td>1810323</td>\n",
       "      <td>1501.0</td>\n",
       "      <td>168319.0</td>\n",
       "      <td>(197310) Пакет 30см х 60см</td>\n",
       "      <td>906.0</td>\n",
       "      <td>205.0</td>\n",
       "      <td>-1.0</td>\n",
       "      <td>1,00</td>\n",
       "    </tr>\n",
       "  </tbody>\n",
       "</table>\n",
       "</div>"
      ],
      "text/plain": [
       "  sale_date_date contact_id  shop_id  product_id  \\\n",
       "0     2018-12-07    1260627   1455.0    168308.0   \n",
       "1     2018-12-07     198287    279.0    134832.0   \n",
       "2     2018-12-07    2418385    848.0    101384.0   \n",
       "3     2018-12-07    1285774   1511.0    168570.0   \n",
       "4     2018-12-07    1810323   1501.0    168319.0   \n",
       "\n",
       "                                                name  product_sub_category_id  \\\n",
       "0                   (197312) Пакет-майка 25см х 45см                    906.0   \n",
       "1  (62448) Перекись водорода р-р наружн. 3% фл.по...                    404.0   \n",
       "2  (72183) Салициловая кислота р-р спирт 2% фл 40...                    404.0   \n",
       "3                         (197309) Пакет 28см х 50см                    906.0   \n",
       "4                         (197310) Пакет 30см х 60см                    906.0   \n",
       "\n",
       "   product_category_id  brand_id quantity  \n",
       "0                205.0      -1.0     1,00  \n",
       "1                 93.0      -1.0     1,00  \n",
       "2                 93.0      -1.0     1,00  \n",
       "3                205.0      -1.0     1,00  \n",
       "4                205.0      -1.0     1,00  "
      ]
     },
     "execution_count": 34,
     "metadata": {},
     "output_type": "execute_result"
    }
   ],
   "source": [
    "df1=pd.read_csv(\"C:/Users/Матвей/Downloads/farm.csv\")\n",
    "df1.head()"
   ]
  },
  {
   "cell_type": "code",
   "execution_count": 35,
   "metadata": {},
   "outputs": [
    {
     "data": {
      "text/plain": [
       "(20000003, 9)"
      ]
     },
     "execution_count": 35,
     "metadata": {},
     "output_type": "execute_result"
    }
   ],
   "source": [
    "df1.shape"
   ]
  },
  {
   "cell_type": "code",
   "execution_count": 36,
   "metadata": {},
   "outputs": [],
   "source": [
    "df1 = df1.fillna(0)"
   ]
  },
  {
   "cell_type": "code",
   "execution_count": 37,
   "metadata": {},
   "outputs": [],
   "source": [
    "df1 ['shop_id']= df1['shop_id'].astype(int)"
   ]
  },
  {
   "cell_type": "code",
   "execution_count": 38,
   "metadata": {},
   "outputs": [
    {
     "data": {
      "text/plain": [
       "0           1455\n",
       "1            279\n",
       "2            848\n",
       "3           1511\n",
       "4           1501\n",
       "            ... \n",
       "19999998    1485\n",
       "19999999    1503\n",
       "20000000       0\n",
       "20000001       0\n",
       "20000002       0\n",
       "Name: shop_id, Length: 20000003, dtype: int32"
      ]
     },
     "execution_count": 38,
     "metadata": {},
     "output_type": "execute_result"
    }
   ],
   "source": [
    "df1 ['shop_id']"
   ]
  },
  {
   "cell_type": "code",
   "execution_count": 39,
   "metadata": {},
   "outputs": [],
   "source": [
    "df1 = df1.drop(df1[df1.shop_id > 100].index)"
   ]
  },
  {
   "cell_type": "code",
   "execution_count": 40,
   "metadata": {},
   "outputs": [
    {
     "data": {
      "text/plain": [
       "(797585, 9)"
      ]
     },
     "execution_count": 40,
     "metadata": {},
     "output_type": "execute_result"
    }
   ],
   "source": [
    "df1.shape"
   ]
  },
  {
   "cell_type": "code",
   "execution_count": 41,
   "metadata": {},
   "outputs": [
    {
     "data": {
      "text/html": [
       "<div>\n",
       "<style scoped>\n",
       "    .dataframe tbody tr th:only-of-type {\n",
       "        vertical-align: middle;\n",
       "    }\n",
       "\n",
       "    .dataframe tbody tr th {\n",
       "        vertical-align: top;\n",
       "    }\n",
       "\n",
       "    .dataframe thead th {\n",
       "        text-align: right;\n",
       "    }\n",
       "</style>\n",
       "<table border=\"1\" class=\"dataframe\">\n",
       "  <thead>\n",
       "    <tr style=\"text-align: right;\">\n",
       "      <th></th>\n",
       "      <th>sale_date_date</th>\n",
       "      <th>contact_id</th>\n",
       "      <th>shop_id</th>\n",
       "      <th>product_id</th>\n",
       "      <th>name</th>\n",
       "      <th>product_sub_category_id</th>\n",
       "      <th>product_category_id</th>\n",
       "      <th>brand_id</th>\n",
       "      <th>quantity</th>\n",
       "    </tr>\n",
       "  </thead>\n",
       "  <tbody>\n",
       "    <tr>\n",
       "      <th>5</th>\n",
       "      <td>2018-12-07</td>\n",
       "      <td>2435604</td>\n",
       "      <td>66</td>\n",
       "      <td>37505.0</td>\n",
       "      <td>(53208) Кеппра таб.п.п.о.500мг №30</td>\n",
       "      <td>641.0</td>\n",
       "      <td>146.0</td>\n",
       "      <td>-1.0</td>\n",
       "      <td>1,00</td>\n",
       "    </tr>\n",
       "    <tr>\n",
       "      <th>46</th>\n",
       "      <td>2018-12-07</td>\n",
       "      <td>2746014</td>\n",
       "      <td>43</td>\n",
       "      <td>34104.0</td>\n",
       "      <td>(88540) Флуконазол капс. 150мг №2</td>\n",
       "      <td>622.0</td>\n",
       "      <td>142.0</td>\n",
       "      <td>-1.0</td>\n",
       "      <td>2,00</td>\n",
       "    </tr>\n",
       "    <tr>\n",
       "      <th>53</th>\n",
       "      <td>2018-12-07</td>\n",
       "      <td>2742588</td>\n",
       "      <td>52</td>\n",
       "      <td>27063.0</td>\n",
       "      <td>(116349) Нафтизин р-р 0.1% фл/кап 20мл N1</td>\n",
       "      <td>701.0</td>\n",
       "      <td>162.0</td>\n",
       "      <td>-1.0</td>\n",
       "      <td>2,00</td>\n",
       "    </tr>\n",
       "    <tr>\n",
       "      <th>56</th>\n",
       "      <td>2018-12-07</td>\n",
       "      <td>2742588</td>\n",
       "      <td>52</td>\n",
       "      <td>116091.0</td>\n",
       "      <td>(36435) Аевит капс N10</td>\n",
       "      <td>-1.0</td>\n",
       "      <td>-1.0</td>\n",
       "      <td>-1.0</td>\n",
       "      <td>2,00</td>\n",
       "    </tr>\n",
       "    <tr>\n",
       "      <th>89</th>\n",
       "      <td>2018-12-07</td>\n",
       "      <td>2745721</td>\n",
       "      <td>52</td>\n",
       "      <td>135018.0</td>\n",
       "      <td>(61001) Дьюралан 60мг шприц 3мл уп.№1</td>\n",
       "      <td>646.0</td>\n",
       "      <td>148.0</td>\n",
       "      <td>-1.0</td>\n",
       "      <td>2,00</td>\n",
       "    </tr>\n",
       "    <tr>\n",
       "      <th>...</th>\n",
       "      <td>...</td>\n",
       "      <td>...</td>\n",
       "      <td>...</td>\n",
       "      <td>...</td>\n",
       "      <td>...</td>\n",
       "      <td>...</td>\n",
       "      <td>...</td>\n",
       "      <td>...</td>\n",
       "      <td>...</td>\n",
       "    </tr>\n",
       "    <tr>\n",
       "      <th>19988836</th>\n",
       "      <td>2018-06-13</td>\n",
       "      <td>319155</td>\n",
       "      <td>51</td>\n",
       "      <td>102740.0</td>\n",
       "      <td>(42652) Валокордин капли д/приема внутрь 50мл</td>\n",
       "      <td>613.0</td>\n",
       "      <td>140.0</td>\n",
       "      <td>-1.0</td>\n",
       "      <td>1,00</td>\n",
       "    </tr>\n",
       "    <tr>\n",
       "      <th>19988859</th>\n",
       "      <td>2018-06-13</td>\n",
       "      <td>1010890</td>\n",
       "      <td>57</td>\n",
       "      <td>157284.0</td>\n",
       "      <td>(179696) Ван Тач Селект Плюс Глюкометр</td>\n",
       "      <td>454.0</td>\n",
       "      <td>106.0</td>\n",
       "      <td>2933.0</td>\n",
       "      <td>1,00</td>\n",
       "    </tr>\n",
       "    <tr>\n",
       "      <th>20000000</th>\n",
       "      <td>0</td>\n",
       "      <td>0</td>\n",
       "      <td>0</td>\n",
       "      <td>0.0</td>\n",
       "      <td>0</td>\n",
       "      <td>0.0</td>\n",
       "      <td>0.0</td>\n",
       "      <td>0.0</td>\n",
       "      <td>0</td>\n",
       "    </tr>\n",
       "    <tr>\n",
       "      <th>20000001</th>\n",
       "      <td>(затронуто стр</td>\n",
       "      <td>к: 20000000</td>\n",
       "      <td>0</td>\n",
       "      <td>0.0</td>\n",
       "      <td>0</td>\n",
       "      <td>0.0</td>\n",
       "      <td>0.0</td>\n",
       "      <td>0.0</td>\n",
       "      <td>0</td>\n",
       "    </tr>\n",
       "    <tr>\n",
       "      <th>20000002</th>\n",
       "      <td>0</td>\n",
       "      <td>0</td>\n",
       "      <td>0</td>\n",
       "      <td>0.0</td>\n",
       "      <td>0</td>\n",
       "      <td>0.0</td>\n",
       "      <td>0.0</td>\n",
       "      <td>0.0</td>\n",
       "      <td>0</td>\n",
       "    </tr>\n",
       "  </tbody>\n",
       "</table>\n",
       "<p>797585 rows × 9 columns</p>\n",
       "</div>"
      ],
      "text/plain": [
       "          sale_date_date   contact_id  shop_id  product_id  \\\n",
       "5             2018-12-07      2435604       66     37505.0   \n",
       "46            2018-12-07      2746014       43     34104.0   \n",
       "53            2018-12-07      2742588       52     27063.0   \n",
       "56            2018-12-07      2742588       52    116091.0   \n",
       "89            2018-12-07      2745721       52    135018.0   \n",
       "...                  ...          ...      ...         ...   \n",
       "19988836      2018-06-13       319155       51    102740.0   \n",
       "19988859      2018-06-13      1010890       57    157284.0   \n",
       "20000000               0            0        0         0.0   \n",
       "20000001  (затронуто стр  к: 20000000        0         0.0   \n",
       "20000002               0            0        0         0.0   \n",
       "\n",
       "                                                   name  \\\n",
       "5                    (53208) Кеппра таб.п.п.о.500мг №30   \n",
       "46                    (88540) Флуконазол капс. 150мг №2   \n",
       "53            (116349) Нафтизин р-р 0.1% фл/кап 20мл N1   \n",
       "56                               (36435) Аевит капс N10   \n",
       "89                (61001) Дьюралан 60мг шприц 3мл уп.№1   \n",
       "...                                                 ...   \n",
       "19988836  (42652) Валокордин капли д/приема внутрь 50мл   \n",
       "19988859         (179696) Ван Тач Селект Плюс Глюкометр   \n",
       "20000000                                              0   \n",
       "20000001                                              0   \n",
       "20000002                                              0   \n",
       "\n",
       "          product_sub_category_id  product_category_id  brand_id quantity  \n",
       "5                           641.0                146.0      -1.0     1,00  \n",
       "46                          622.0                142.0      -1.0     2,00  \n",
       "53                          701.0                162.0      -1.0     2,00  \n",
       "56                           -1.0                 -1.0      -1.0     2,00  \n",
       "89                          646.0                148.0      -1.0     2,00  \n",
       "...                           ...                  ...       ...      ...  \n",
       "19988836                    613.0                140.0      -1.0     1,00  \n",
       "19988859                    454.0                106.0    2933.0     1,00  \n",
       "20000000                      0.0                  0.0       0.0        0  \n",
       "20000001                      0.0                  0.0       0.0        0  \n",
       "20000002                      0.0                  0.0       0.0        0  \n",
       "\n",
       "[797585 rows x 9 columns]"
      ]
     },
     "execution_count": 41,
     "metadata": {},
     "output_type": "execute_result"
    }
   ],
   "source": [
    "df1"
   ]
  },
  {
   "cell_type": "code",
   "execution_count": 42,
   "metadata": {},
   "outputs": [
    {
     "data": {
      "text/plain": [
       "sale_date_date              object\n",
       "contact_id                  object\n",
       "shop_id                      int32\n",
       "product_id                 float64\n",
       "name                        object\n",
       "product_sub_category_id    float64\n",
       "product_category_id        float64\n",
       "brand_id                   float64\n",
       "quantity                    object\n",
       "dtype: object"
      ]
     },
     "execution_count": 42,
     "metadata": {},
     "output_type": "execute_result"
    }
   ],
   "source": [
    "df1.dtypes"
   ]
  },
  {
   "cell_type": "code",
   "execution_count": 43,
   "metadata": {},
   "outputs": [],
   "source": [
    "df1 ['product_id'] = df1 ['product_id']. astype (str)"
   ]
  },
  {
   "cell_type": "code",
   "execution_count": 44,
   "metadata": {},
   "outputs": [
    {
     "data": {
      "text/plain": [
       "count    797585.000000\n",
       "mean        416.200658\n",
       "std         981.046614\n",
       "min          -1.000000\n",
       "25%          -1.000000\n",
       "50%          -1.000000\n",
       "75%          -1.000000\n",
       "max        5467.000000\n",
       "Name: brand_id, dtype: float64"
      ]
     },
     "execution_count": 44,
     "metadata": {},
     "output_type": "execute_result"
    }
   ],
   "source": [
    "df1['brand_id'].describe()"
   ]
  },
  {
   "cell_type": "code",
   "execution_count": 45,
   "metadata": {},
   "outputs": [],
   "source": [
    "del df1['brand_id']"
   ]
  },
  {
   "cell_type": "markdown",
   "metadata": {},
   "source": [
    "#### Уникальные клиенты"
   ]
  },
  {
   "cell_type": "code",
   "execution_count": 46,
   "metadata": {},
   "outputs": [
    {
     "data": {
      "text/plain": [
       "74363"
      ]
     },
     "execution_count": 46,
     "metadata": {},
     "output_type": "execute_result"
    }
   ],
   "source": [
    "customers = df1 [\"contact_id\"]. unique (). tolist ()\n",
    "len (customers)"
   ]
  },
  {
   "cell_type": "markdown",
   "metadata": {},
   "source": [
    "#### Выделим небольшую часть набора данных, 90% клиентов для создания вложений word2vec. Разделим данные."
   ]
  },
  {
   "cell_type": "code",
   "execution_count": 47,
   "metadata": {},
   "outputs": [],
   "source": [
    "random.shuffle(customers)\n",
    "\n",
    "customers_train = [customers[i] for i in range(round(0.9*len(customers)))]\n",
    "\n",
    "\n",
    "train_df1 = df1[df1['contact_id'].isin(customers_train)]\n",
    "validation_df1 = df1[~df1['contact_id'].isin(customers_train)]"
   ]
  },
  {
   "cell_type": "markdown",
   "metadata": {},
   "source": [
    "#### Cоздадим последовательности покупок, сделанных клиентами, в наборе данных."
   ]
  },
  {
   "cell_type": "code",
   "execution_count": 48,
   "metadata": {},
   "outputs": [
    {
     "name": "stderr",
     "output_type": "stream",
     "text": [
      "100%|██████████████████████████████████████████████████████████████████████████| 66927/66927 [1:20:08<00:00, 13.92it/s]\n"
     ]
    }
   ],
   "source": [
    "purchases_train = []\n",
    "\n",
    "for i in tqdm(customers_train):\n",
    "    temp = train_df1[train_df1[\"contact_id\"] == i][\"product_id\"].tolist()\n",
    "    purchases_train.append(temp)"
   ]
  },
  {
   "cell_type": "code",
   "execution_count": 49,
   "metadata": {},
   "outputs": [
    {
     "name": "stderr",
     "output_type": "stream",
     "text": [
      "100%|██████████████████████████████████████████████████████████████████████████████| 7436/7436 [01:26<00:00, 86.46it/s]\n"
     ]
    }
   ],
   "source": [
    "purchases_val = []\n",
    "\n",
    "for i in tqdm(validation_df1['contact_id'].unique()):\n",
    "    temp = validation_df1[validation_df1[\"contact_id\"] == i][\"product_id\"].tolist()\n",
    "    purchases_val.append(temp)"
   ]
  },
  {
   "cell_type": "markdown",
   "metadata": {},
   "source": [
    "#### Создание вложений word2vec для продуктов"
   ]
  },
  {
   "cell_type": "code",
   "execution_count": 50,
   "metadata": {},
   "outputs": [
    {
     "data": {
      "text/plain": [
       "(6962436, 7159670)"
      ]
     },
     "execution_count": 50,
     "metadata": {},
     "output_type": "execute_result"
    }
   ],
   "source": [
    "model = Word2Vec(window = 10, sg = 1, hs = 0,\n",
    "                 negative = 10, \n",
    "                 alpha=0.03, min_alpha=0.0007,\n",
    "                 seed = 14)\n",
    "\n",
    "model.build_vocab(purchases_train, progress_per=200)\n",
    "\n",
    "model.train(purchases_train, total_examples = model.corpus_count, \n",
    "            epochs=10, report_delay=1)"
   ]
  },
  {
   "cell_type": "code",
   "execution_count": 51,
   "metadata": {},
   "outputs": [],
   "source": [
    "model.init_sims(replace=True)"
   ]
  },
  {
   "cell_type": "code",
   "execution_count": 52,
   "metadata": {},
   "outputs": [
    {
     "name": "stdout",
     "output_type": "stream",
     "text": [
      "Word2Vec(vocab=9331, size=100, alpha=0.03)\n"
     ]
    }
   ],
   "source": [
    "print(model)"
   ]
  },
  {
   "cell_type": "markdown",
   "metadata": {},
   "source": [
    "#### Наша модель имеет словарь из 9331 уникального слова и их векторов размером 100 каждый. Затем мы извлечем векторы всех слов в нашем словаре и сохраним их в одном месте для легкого доступа."
   ]
  },
  {
   "cell_type": "code",
   "execution_count": 53,
   "metadata": {},
   "outputs": [
    {
     "data": {
      "text/plain": [
       "(9331, 100)"
      ]
     },
     "execution_count": 53,
     "metadata": {},
     "output_type": "execute_result"
    }
   ],
   "source": [
    "X = model[model.wv.vocab]\n",
    "\n",
    "X.shape"
   ]
  },
  {
   "cell_type": "code",
   "execution_count": 54,
   "metadata": {},
   "outputs": [
    {
     "name": "stdout",
     "output_type": "stream",
     "text": [
      "Requirement already satisfied: umap-learn in c:\\programdata\\anaconda3\\lib\\site-packages (0.5.2)\n",
      "Requirement already satisfied: pynndescent>=0.5 in c:\\programdata\\anaconda3\\lib\\site-packages (from umap-learn) (0.5.5)\n",
      "Requirement already satisfied: tqdm in c:\\programdata\\anaconda3\\lib\\site-packages (from umap-learn) (4.59.0)\n",
      "Requirement already satisfied: scikit-learn>=0.22 in c:\\programdata\\anaconda3\\lib\\site-packages (from umap-learn) (0.24.1)\n",
      "Requirement already satisfied: scipy>=1.0 in c:\\programdata\\anaconda3\\lib\\site-packages (from umap-learn) (1.6.2)\n",
      "Requirement already satisfied: numpy>=1.17 in c:\\programdata\\anaconda3\\lib\\site-packages (from umap-learn) (1.20.1)\n",
      "Requirement already satisfied: numba>=0.49 in c:\\programdata\\anaconda3\\lib\\site-packages (from umap-learn) (0.53.1)\n",
      "Requirement already satisfied: setuptools in c:\\programdata\\anaconda3\\lib\\site-packages (from numba>=0.49->umap-learn) (52.0.0.post20210125)\n",
      "Requirement already satisfied: llvmlite<0.37,>=0.36.0rc1 in c:\\programdata\\anaconda3\\lib\\site-packages (from numba>=0.49->umap-learn) (0.36.0)\n",
      "Requirement already satisfied: joblib>=0.11 in c:\\programdata\\anaconda3\\lib\\site-packages (from pynndescent>=0.5->umap-learn) (1.0.1)\n",
      "Requirement already satisfied: threadpoolctl>=2.0.0 in c:\\programdata\\anaconda3\\lib\\site-packages (from scikit-learn>=0.22->umap-learn) (2.1.0)\n",
      "Note: you may need to restart the kernel to use updated packages.\n"
     ]
    }
   ],
   "source": [
    "pip install umap-learn"
   ]
  },
  {
   "cell_type": "code",
   "execution_count": 55,
   "metadata": {},
   "outputs": [
    {
     "data": {
      "text/plain": [
       "<matplotlib.collections.PathCollection at 0x1f868e841c0>"
      ]
     },
     "execution_count": 55,
     "metadata": {},
     "output_type": "execute_result"
    },
    {
     "data": {
      "image/png": "[encoded data removed]",
      "text/plain": [
       "<Figure size 720x648 with 1 Axes>"
      ]
     },
     "metadata": {
      "needs_background": "light"
     },
     "output_type": "display_data"
    }
   ],
   "source": [
    "import umap\n",
    "\n",
    "cluster_embedding = umap.UMAP(n_neighbors=30, min_dist=0.0,\n",
    "                              n_components=2, random_state=42).fit_transform(X)\n",
    "\n",
    "plt.figure(figsize=(10,9))\n",
    "plt.scatter(cluster_embedding[:, 0], cluster_embedding[:, 1], s=3, cmap='Spectral')"
   ]
  },
  {
   "cell_type": "code",
   "execution_count": 56,
   "metadata": {},
   "outputs": [],
   "source": [
    "products = train_df1[[\"product_id\", \"name\"]]\n",
    "\n",
    "# remove duplicates\n",
    "products.drop_duplicates(inplace=True, subset='product_id', keep=\"last\")\n",
    "\n",
    "# create product-ID and product-description dictionary\n",
    "products_dict = products.groupby('product_id')['name'].apply(list).to_dict()"
   ]
  },
  {
   "cell_type": "markdown",
   "metadata": {},
   "source": [
    "#### Проверка словаря"
   ]
  },
  {
   "cell_type": "code",
   "execution_count": 70,
   "metadata": {},
   "outputs": [
    {
     "data": {
      "text/plain": [
       "['(62448) Перекись водорода р-р наружн. 3% фл.полимерн. 100мл']"
      ]
     },
     "execution_count": 70,
     "metadata": {},
     "output_type": "execute_result"
    }
   ],
   "source": [
    "products_dict ['134832.0']"
   ]
  },
  {
   "cell_type": "code",
   "execution_count": 71,
   "metadata": {},
   "outputs": [],
   "source": [
    "def similar_products(v, n = 6):\n",
    "    \n",
    "    # extract most similar products for the input vector\n",
    "    ms = model.similar_by_vector(v, topn= n+1)[1:]\n",
    "    \n",
    "    # extract name and similarity score of the similar products\n",
    "    new_ms = []\n",
    "    for j in ms:\n",
    "        pair = (products_dict[j[0]][0], j[1])\n",
    "        new_ms.append(pair)\n",
    "        \n",
    "    return new_ms  "
   ]
  },
  {
   "cell_type": "code",
   "execution_count": 72,
   "metadata": {},
   "outputs": [
    {
     "data": {
      "text/plain": [
       "[('(96724) Бриллиантовый зеленый р-р спирт 1% фл 10мл N1 с лопаткой Renewal',\n",
       "  0.6598858833312988),\n",
       " ('(114892) Нью Лайф Бинт марл мед стер 5м х 10см уп N1/СТМ',\n",
       "  0.6511977910995483),\n",
       " ('(81509) PL Хлоргексидин биглюконат р-р 0.05% фл.100мл №1 (НДС 18%)',\n",
       "  0.6501666307449341),\n",
       " ('(108159) Бриллиантовый зеленый р-р спирт 1% фл 25мл N1',\n",
       "  0.6385761499404907),\n",
       " ('(114497) Доктор Йод раствор антисептический фл.10мл с крышкой-помазком',\n",
       "  0.632773220539093),\n",
       " ('(69992) Клеенка подкладная ПВХ покрыт 1 х 0,68м', 0.6235135197639465)]"
      ]
     },
     "execution_count": 72,
     "metadata": {},
     "output_type": "execute_result"
    }
   ],
   "source": [
    "similar_products(model['134832.0'])"
   ]
  },
  {
   "cell_type": "markdown",
   "metadata": {},
   "source": [
    "#### Результаты довольно актуальны и хорошо соответствуют исходному продукту. Однако этот вывод основан на векторе только одного продукта. Возьмем среднее значение всех векторов продуктов"
   ]
  },
  {
   "cell_type": "code",
   "execution_count": 78,
   "metadata": {},
   "outputs": [],
   "source": [
    "def aggregate_vectors(products):\n",
    "    product_vec = []\n",
    "    for i in products:\n",
    "        try:\n",
    "            product_vec.append(model[i])\n",
    "        except KeyError:\n",
    "            continue\n",
    "        \n",
    "    return np.mean(product_vec, axis=0)"
   ]
  },
  {
   "cell_type": "code",
   "execution_count": 79,
   "metadata": {},
   "outputs": [
    {
     "data": {
      "text/plain": [
       "4"
      ]
     },
     "execution_count": 79,
     "metadata": {},
     "output_type": "execute_result"
    }
   ],
   "source": [
    "len(purchases_val[0])"
   ]
  },
  {
   "cell_type": "code",
   "execution_count": 80,
   "metadata": {},
   "outputs": [
    {
     "data": {
      "text/plain": [
       "(100,)"
      ]
     },
     "execution_count": 80,
     "metadata": {},
     "output_type": "execute_result"
    }
   ],
   "source": [
    "aggregate_vectors(purchases_val[0]).shape"
   ]
  },
  {
   "cell_type": "code",
   "execution_count": 81,
   "metadata": {},
   "outputs": [
    {
     "data": {
      "text/plain": [
       "[('(33010) Пертуссин сироп фл 100мл N1', 0.6829351186752319),\n",
       " ('(119799) АВЕН КЛИНАНС Эмульсия солцезащитная SPF 50+ 50мл',\n",
       "  0.6641629338264465),\n",
       " ('(36435) Аевит капс N10', 0.6590448021888733),\n",
       " ('(114421) Чемеричная вода р-р фл 100мл N1', 0.6568765640258789),\n",
       " ('(111779) Валсартан-Гидрохлоротиазид таб. п.п.о. 160мг+12,5мг №28',\n",
       "  0.6476302146911621),\n",
       " ('(67032) Компливит Триместриум (2 триместр) табл. №30', 0.6458255648612976)]"
      ]
     },
     "execution_count": 81,
     "metadata": {},
     "output_type": "execute_result"
    }
   ],
   "source": [
    "similar_products(aggregate_vectors(purchases_val[0]))"
   ]
  },
  {
   "cell_type": "code",
   "execution_count": 82,
   "metadata": {},
   "outputs": [
    {
     "data": {
      "text/plain": [
       "[('(33010) Пертуссин сироп фл 100мл N1', 0.6829351186752319),\n",
       " ('(119799) АВЕН КЛИНАНС Эмульсия солцезащитная SPF 50+ 50мл',\n",
       "  0.6641629338264465),\n",
       " ('(36435) Аевит капс N10', 0.6590448021888733),\n",
       " ('(114421) Чемеричная вода р-р фл 100мл N1', 0.6568765640258789),\n",
       " ('(111779) Валсартан-Гидрохлоротиазид таб. п.п.о. 160мг+12,5мг №28',\n",
       "  0.6476302146911621),\n",
       " ('(67032) Компливит Триместриум (2 триместр) табл. №30', 0.6458255648612976)]"
      ]
     },
     "execution_count": 82,
     "metadata": {},
     "output_type": "execute_result"
    }
   ],
   "source": [
    "similar_products(aggregate_vectors(purchases_val[0][-10:]))"
   ]
  },
  {
   "cell_type": "code",
   "execution_count": null,
   "metadata": {},
   "outputs": [],
   "source": []
  }
 ],
 "metadata": {
  "kernelspec": {
   "display_name": "Python 3",
   "language": "python",
   "name": "python3"
  },
  "language_info": {
   "codemirror_mode": {
    "name": "ipython",
    "version": 3
   },
   "file_extension": ".py",
   "mimetype": "text/x-python",
   "name": "python",
   "nbconvert_exporter": "python",
   "pygments_lexer": "ipython3",
   "version": "3.8.8"
  }
 },
 "nbformat": 4,
 "nbformat_minor": 4
}
